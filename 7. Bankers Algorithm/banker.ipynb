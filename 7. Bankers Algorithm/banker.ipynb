{
 "cells": [
  {
   "cell_type": "code",
   "execution_count": 1,
   "id": "decent-karen",
   "metadata": {},
   "outputs": [],
   "source": [
    "import pandas as pd\n",
    "import numpy as np\n",
    "import string"
   ]
  },
  {
   "cell_type": "code",
   "execution_count": 2,
   "id": "significant-destination",
   "metadata": {},
   "outputs": [
    {
     "name": "stdout",
     "output_type": "stream",
     "text": [
      "Number of resources: 4\n",
      "Number Of Processes: 5\n"
     ]
    }
   ],
   "source": [
    "no_resources = int(input(\"Number of resources: \"))\n",
    "resources = [string.ascii_uppercase[x] for x in range(no_resources)]\n",
    "cols = pd.MultiIndex.from_product([\n",
    "    ['Allocation','Max','Available','Remaining'],\n",
    "    resources\n",
    "])\n",
    "\n",
    "process_count = int(input(\"Number Of Processes: \"))\n",
    "index = [f'P{x+1}' for x in range(process_count)]\n",
    "\n",
    "df = pd.DataFrame(index=index, columns=cols, dtype=np.int64)"
   ]
  },
  {
   "cell_type": "code",
   "execution_count": 3,
   "id": "greenhouse-gothic",
   "metadata": {},
   "outputs": [
    {
     "name": "stdout",
     "output_type": "stream",
     "text": [
      "Allocation A : 0 1 1 0 0\n",
      "Allocation B : 0 0 3 6 0\n",
      "Allocation C : 1 0 5 3 1\n",
      "Allocation D : 2 0 4 2 4\n",
      "Max A : 0 1 2 0 0\n",
      "Max B : 0 7 3 6 6\n",
      "Max C : 1 5 5 5 5\n",
      "Max D : 2 0 6 2 6\n"
     ]
    }
   ],
   "source": [
    "for x in ['Allocation','Max']:\n",
    "    for y in resources:\n",
    "        df.loc[:,(x,y)] = list(map(int, input(f\"{x} {y} : \").split()))"
   ]
  },
  {
   "cell_type": "code",
   "execution_count": 4,
   "id": "distinguished-brief",
   "metadata": {},
   "outputs": [],
   "source": [
    "df['Remaining'] = df['Max'] - df['Allocation']\n",
    "df['Available'] = 0"
   ]
  },
  {
   "cell_type": "code",
   "execution_count": 5,
   "id": "split-finding",
   "metadata": {},
   "outputs": [
    {
     "name": "stdout",
     "output_type": "stream",
     "text": [
      "Free Resources: 1 5 2 0\n"
     ]
    }
   ],
   "source": [
    "sys_resourcces = np.array(list(map(\n",
    "    int,\n",
    "    input(\"Free Resources: \").split()\n",
    "))).astype(np.int64)"
   ]
  },
  {
   "cell_type": "code",
   "execution_count": 6,
   "id": "spectacular-carry",
   "metadata": {},
   "outputs": [
    {
     "data": {
      "text/html": [
       "<div>\n",
       "<style scoped>\n",
       "    .dataframe tbody tr th:only-of-type {\n",
       "        vertical-align: middle;\n",
       "    }\n",
       "\n",
       "    .dataframe tbody tr th {\n",
       "        vertical-align: top;\n",
       "    }\n",
       "\n",
       "    .dataframe thead tr th {\n",
       "        text-align: left;\n",
       "    }\n",
       "</style>\n",
       "<table border=\"1\" class=\"dataframe\">\n",
       "  <thead>\n",
       "    <tr>\n",
       "      <th></th>\n",
       "      <th colspan=\"4\" halign=\"left\">Allocation</th>\n",
       "      <th colspan=\"4\" halign=\"left\">Max</th>\n",
       "      <th colspan=\"4\" halign=\"left\">Available</th>\n",
       "      <th colspan=\"4\" halign=\"left\">Remaining</th>\n",
       "    </tr>\n",
       "    <tr>\n",
       "      <th></th>\n",
       "      <th>A</th>\n",
       "      <th>B</th>\n",
       "      <th>C</th>\n",
       "      <th>D</th>\n",
       "      <th>A</th>\n",
       "      <th>B</th>\n",
       "      <th>C</th>\n",
       "      <th>D</th>\n",
       "      <th>A</th>\n",
       "      <th>B</th>\n",
       "      <th>C</th>\n",
       "      <th>D</th>\n",
       "      <th>A</th>\n",
       "      <th>B</th>\n",
       "      <th>C</th>\n",
       "      <th>D</th>\n",
       "    </tr>\n",
       "  </thead>\n",
       "  <tbody>\n",
       "    <tr>\n",
       "      <th>P1</th>\n",
       "      <td>0</td>\n",
       "      <td>0</td>\n",
       "      <td>1</td>\n",
       "      <td>2</td>\n",
       "      <td>0</td>\n",
       "      <td>0</td>\n",
       "      <td>1</td>\n",
       "      <td>2</td>\n",
       "      <td>1</td>\n",
       "      <td>5</td>\n",
       "      <td>2</td>\n",
       "      <td>0</td>\n",
       "      <td>0</td>\n",
       "      <td>0</td>\n",
       "      <td>0</td>\n",
       "      <td>0</td>\n",
       "    </tr>\n",
       "    <tr>\n",
       "      <th>P2</th>\n",
       "      <td>1</td>\n",
       "      <td>0</td>\n",
       "      <td>0</td>\n",
       "      <td>0</td>\n",
       "      <td>1</td>\n",
       "      <td>7</td>\n",
       "      <td>5</td>\n",
       "      <td>0</td>\n",
       "      <td>2</td>\n",
       "      <td>14</td>\n",
       "      <td>12</td>\n",
       "      <td>12</td>\n",
       "      <td>0</td>\n",
       "      <td>7</td>\n",
       "      <td>5</td>\n",
       "      <td>0</td>\n",
       "    </tr>\n",
       "    <tr>\n",
       "      <th>P3</th>\n",
       "      <td>1</td>\n",
       "      <td>3</td>\n",
       "      <td>5</td>\n",
       "      <td>4</td>\n",
       "      <td>2</td>\n",
       "      <td>3</td>\n",
       "      <td>5</td>\n",
       "      <td>6</td>\n",
       "      <td>1</td>\n",
       "      <td>5</td>\n",
       "      <td>3</td>\n",
       "      <td>2</td>\n",
       "      <td>1</td>\n",
       "      <td>0</td>\n",
       "      <td>0</td>\n",
       "      <td>2</td>\n",
       "    </tr>\n",
       "    <tr>\n",
       "      <th>P4</th>\n",
       "      <td>0</td>\n",
       "      <td>6</td>\n",
       "      <td>3</td>\n",
       "      <td>2</td>\n",
       "      <td>0</td>\n",
       "      <td>6</td>\n",
       "      <td>5</td>\n",
       "      <td>2</td>\n",
       "      <td>2</td>\n",
       "      <td>8</td>\n",
       "      <td>8</td>\n",
       "      <td>6</td>\n",
       "      <td>0</td>\n",
       "      <td>0</td>\n",
       "      <td>2</td>\n",
       "      <td>0</td>\n",
       "    </tr>\n",
       "    <tr>\n",
       "      <th>P5</th>\n",
       "      <td>0</td>\n",
       "      <td>0</td>\n",
       "      <td>1</td>\n",
       "      <td>4</td>\n",
       "      <td>0</td>\n",
       "      <td>6</td>\n",
       "      <td>5</td>\n",
       "      <td>6</td>\n",
       "      <td>2</td>\n",
       "      <td>14</td>\n",
       "      <td>11</td>\n",
       "      <td>8</td>\n",
       "      <td>0</td>\n",
       "      <td>6</td>\n",
       "      <td>4</td>\n",
       "      <td>2</td>\n",
       "    </tr>\n",
       "  </tbody>\n",
       "</table>\n",
       "</div>"
      ],
      "text/plain": [
       "   Allocation          Max          Available             Remaining         \n",
       "            A  B  C  D   A  B  C  D         A   B   C   D         A  B  C  D\n",
       "P1          0  0  1  2   0  0  1  2         1   5   2   0         0  0  0  0\n",
       "P2          1  0  0  0   1  7  5  0         2  14  12  12         0  7  5  0\n",
       "P3          1  3  5  4   2  3  5  6         1   5   3   2         1  0  0  2\n",
       "P4          0  6  3  2   0  6  5  2         2   8   8   6         0  0  2  0\n",
       "P5          0  0  1  4   0  6  5  6         2  14  11   8         0  6  4  2"
      ]
     },
     "metadata": {},
     "output_type": "display_data"
    },
    {
     "name": "stdout",
     "output_type": "stream",
     "text": [
      "System is in safe state!\n",
      "P1 P3 P4 P5 P2\n"
     ]
    }
   ],
   "source": [
    "order = []\n",
    "found = 1\n",
    "while len(order)<process_count:\n",
    "    if not found:\n",
    "        break\n",
    "    found = 0\n",
    "    for index,row in df.iterrows():\n",
    "        if index not in order:\n",
    "            if(np.all(sys_resourcces>=df['Remaining'].loc[index])):\n",
    "                order.append(index)\n",
    "                df.loc[index,'Available'] = sys_resourcces.tolist()\n",
    "                sys_resourcces += df['Allocation'].loc[index]\n",
    "                found=1\n",
    "\n",
    "df['Available'] = df['Available'].astype(np.int64)\n",
    "display(df)\n",
    "if not found:\n",
    "    print(\"System is not in safe state!\")\n",
    "else:\n",
    "    print(\"System is in safe state!\")\n",
    "    print(*order)\n"
   ]
  },
  {
   "cell_type": "code",
   "execution_count": null,
   "id": "accomplished-credits",
   "metadata": {},
   "outputs": [],
   "source": []
  }
 ],
 "metadata": {
  "kernelspec": {
   "display_name": "Python 3",
   "language": "python",
   "name": "python3"
  },
  "language_info": {
   "codemirror_mode": {
    "name": "ipython",
    "version": 3
   },
   "file_extension": ".py",
   "mimetype": "text/x-python",
   "name": "python",
   "nbconvert_exporter": "python",
   "pygments_lexer": "ipython3",
   "version": "3.8.5"
  }
 },
 "nbformat": 4,
 "nbformat_minor": 5
}
